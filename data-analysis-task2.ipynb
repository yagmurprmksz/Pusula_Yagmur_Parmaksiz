{
 "cells": [
  {
   "cell_type": "code",
   "execution_count": null,
   "id": "7a1897e2-492a-479b-9809-c9cc7b3c3eb5",
   "metadata": {},
   "outputs": [],
   "source": [
    "#Yagmur Parmaksiz Pusula Talent Academy test case task 2\n",
    "#Data Pre-Processing: Based on the findings from your EDA, clean and preprocess the data to make it ready for modeling. This includes handling missing values, encoding  categorical variables, normalizing or standardizing numerical features, and  addressing any data quality issues. For example, you can use methods like  SimpleImputer or KNNImputer to handle missing data, and OneHotEncoder or  LabelEncoder for categorical data. "
   ]
  },
  {
   "cell_type": "code",
   "execution_count": null,
   "id": "7d5c4daa-6821-4ea4-bca0-d75ad368355a",
   "metadata": {},
   "outputs": [],
   "source": [
    "from sklearn.impute import KNNImputer \n",
    "from sklearn.preprocessing import OneHotEncoder, LabelEncoder, StandardScaler\n",
    "\n",
    "# 1. Handling Missing Values\n",
    "# Imputation for numerical features (Kilo, Boy)\n",
    "imputer = KNNImputer(n_neighbors=5)\n",
    "train_data[['Kilo', 'Boy']] = imputer.fit_transform(train_data[['Kilo', 'Boy']])\n",
    "# Imputation for categorical features (Kan Grubu)\n",
    "train_data['Kan Grubu'].fillna(train_data['Kan Grubu'].mode()[0], inplace=True)\n",
    "\n",
    "\n",
    "# 2. Encoding Categorical Variables\n",
    "# Using LabelEncoder for binary categories (e.g., Cinsiyet)\n",
    "label_encoder = LabelEncoder()\n",
    "train_data['Cinsiyet'] = label_encoder.fit_transform(train_data['Cinsiyet'])\n",
    "# OneHotEncoder for nominal categorical variables (e.g., Uyruk, Kan Grubu, Yan_Etki)\n",
    "onehot_encoder = OneHotEncoder(sparse=False, drop='first')\n",
    "categorical_cols = ['Uyruk', 'Kan Grubu', 'Yan_Etki']\n",
    "# Apply one-hot encoding and convert to DataFrame\n",
    "encoded_features = pd.DataFrame(onehot_encoder.fit_transform(train_data[categorical_cols]), \n",
    "                                columns=onehot_encoder.get_feature_names_out(categorical_cols))\n",
    "\n",
    "# Merge back to original dataset and drop original categorical columns\n",
    "train_data = pd.concat([train_data, encoded_features], axis=1)\n",
    "train_data.drop(columns=categorical_cols, inplace=True)\n",
    "\n",
    "# 3. Standardizing Numerical Features\n",
    "scaler = StandardScaler()\n",
    "train_data[['Kilo', 'Boy']] = scaler.fit_transform(train_data[['Kilo', 'Boy']])\n",
    "# Display the processed data head\n",
    "train_data.head()\n"
   ]
  }
 ],
 "metadata": {
  "kernelspec": {
   "display_name": "Python 3 (ipykernel)",
   "language": "python",
   "name": "python3"
  },
  "language_info": {
   "codemirror_mode": {
    "name": "ipython",
    "version": 3
   },
   "file_extension": ".py",
   "mimetype": "text/x-python",
   "name": "python",
   "nbconvert_exporter": "python",
   "pygments_lexer": "ipython3",
   "version": "3.12.4"
  }
 },
 "nbformat": 4,
 "nbformat_minor": 5
}
